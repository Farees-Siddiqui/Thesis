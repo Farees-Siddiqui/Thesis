{
 "cells": [
  {
   "cell_type": "code",
   "execution_count": 1,
   "metadata": {},
   "outputs": [
    {
     "name": "stderr",
     "output_type": "stream",
     "text": [
      "c:\\Users\\faree\\AppData\\Local\\Programs\\Python\\Python311\\Lib\\site-packages\\tqdm\\auto.py:21: TqdmWarning: IProgress not found. Please update jupyter and ipywidgets. See https://ipywidgets.readthedocs.io/en/stable/user_install.html\n",
      "  from .autonotebook import tqdm as notebook_tqdm\n"
     ]
    },
    {
     "data": {
      "text/plain": [
       "device(type='cuda', index=0)"
      ]
     },
     "execution_count": 1,
     "metadata": {},
     "output_type": "execute_result"
    }
   ],
   "source": [
    "import pandas as pd\n",
    "import numpy as np\n",
    "import torch\n",
    "\n",
    "import fasttext\n",
    "\n",
    "from huggingface_hub import hf_hub_download\n",
    "\n",
    "import time\n",
    "\n",
    "from tqdm import tqdm\n",
    "\n",
    "import faiss\n",
    "\n",
    "from datasets import load_dataset\n",
    "\n",
    "from pprint import pprint\n",
    "\n",
    "import logging\n",
    "logging.basicConfig(level=logging.INFO)\n",
    "\n",
    "len_dataset = 2326839\n",
    "\n",
    "device = torch.device(\"cuda:0\" if torch.cuda.is_available() else \"cpu\")\n",
    "device"
   ]
  },
  {
   "cell_type": "code",
   "execution_count": 2,
   "metadata": {},
   "outputs": [],
   "source": [
    "model_path = hf_hub_download(repo_id=\"facebook/fasttext-et-vectors\", filename=\"model.bin\")"
   ]
  },
  {
   "cell_type": "code",
   "execution_count": 3,
   "metadata": {},
   "outputs": [],
   "source": [
    "dataset = load_dataset('json', data_files='dataset/arxiv_data.json', split='train', streaming=True)"
   ]
  },
  {
   "cell_type": "code",
   "execution_count": 4,
   "metadata": {},
   "outputs": [
    {
     "name": "stderr",
     "output_type": "stream",
     "text": [
      "Warning : `load_model` does not return WordVectorModel or SupervisedModel any more, but a `FastText` object which is very similar.\n"
     ]
    }
   ],
   "source": [
    "model = fasttext.load_model(model_path)"
   ]
  },
  {
   "cell_type": "code",
   "execution_count": 5,
   "metadata": {},
   "outputs": [],
   "source": [
    "def save_to_disk(data, filename):\n",
    "    np.savez(filename, data)"
   ]
  },
  {
   "cell_type": "code",
   "execution_count": 6,
   "metadata": {},
   "outputs": [
    {
     "data": {
      "text/plain": [
       "2000000"
      ]
     },
     "execution_count": 6,
     "metadata": {},
     "output_type": "execute_result"
    }
   ],
   "source": [
    "len(model.words)"
   ]
  },
  {
   "cell_type": "code",
   "execution_count": 7,
   "metadata": {},
   "outputs": [],
   "source": [
    "t = next(iter(dataset))"
   ]
  },
  {
   "cell_type": "code",
   "execution_count": 8,
   "metadata": {},
   "outputs": [
    {
     "name": "stdout",
     "output_type": "stream",
     "text": [
      "('  A fully differential calculation in perturbative quantum chromodynamics '\n",
      " 'is\\n'\n",
      " 'presented for the production of massive photon pairs at hadron colliders. '\n",
      " 'All\\n'\n",
      " 'next-to-leading order perturbative contributions from quark-antiquark,\\n'\n",
      " 'gluon-(anti)quark, and gluon-gluon subprocesses are included, as well as\\n'\n",
      " 'all-orders resummation of initial-state gluon radiation valid at\\n'\n",
      " 'next-to-next-to-leading logarithmic accuracy. The region of phase space is\\n'\n",
      " 'specified in which the calculation is most reliable. Good agreement is\\n'\n",
      " 'demonstrated with data from the Fermilab Tevatron, and predictions are made '\n",
      " 'for\\n'\n",
      " 'more detailed tests with CDF and DO data. Predictions are shown for\\n'\n",
      " 'distributions of diphoton pairs produced at the energy of the Large Hadron\\n'\n",
      " 'Collider (LHC). Distributions of the diphoton pairs from the decay of a '\n",
      " 'Higgs\\n'\n",
      " 'boson are contrasted with those produced from QCD processes at the LHC, '\n",
      " 'showing\\n'\n",
      " 'that enhanced sensitivity to the signal can be obtained with judicious\\n'\n",
      " 'selection of events.\\n')\n"
     ]
    }
   ],
   "source": [
    "pprint(t['abstract'])"
   ]
  },
  {
   "cell_type": "code",
   "execution_count": 9,
   "metadata": {},
   "outputs": [],
   "source": [
    "t = t['abstract'].split('.')"
   ]
  },
  {
   "cell_type": "code",
   "execution_count": 10,
   "metadata": {},
   "outputs": [
    {
     "data": {
      "text/plain": [
       "7"
      ]
     },
     "execution_count": 10,
     "metadata": {},
     "output_type": "execute_result"
    }
   ],
   "source": [
    "len(t)"
   ]
  },
  {
   "cell_type": "code",
   "execution_count": 11,
   "metadata": {},
   "outputs": [
    {
     "data": {
      "text/plain": [
       "['  A fully differential calculation in perturbative quantum chromodynamics is presented for the production of massive photon pairs at hadron colliders',\n",
       " ' All next-to-leading order perturbative contributions from quark-antiquark, gluon-(anti)quark, and gluon-gluon subprocesses are included, as well as all-orders resummation of initial-state gluon radiation valid at next-to-next-to-leading logarithmic accuracy',\n",
       " ' The region of phase space is specified in which the calculation is most reliable',\n",
       " ' Good agreement is demonstrated with data from the Fermilab Tevatron, and predictions are made for more detailed tests with CDF and DO data',\n",
       " ' Predictions are shown for distributions of diphoton pairs produced at the energy of the Large Hadron Collider (LHC)',\n",
       " ' Distributions of the diphoton pairs from the decay of a Higgs boson are contrasted with those produced from QCD processes at the LHC, showing that enhanced sensitivity to the signal can be obtained with judicious selection of events',\n",
       " '']"
      ]
     },
     "execution_count": 11,
     "metadata": {},
     "output_type": "execute_result"
    }
   ],
   "source": [
    "t = [i.strip('\\n') for i in t]\n",
    "t = [i.replace('\\n', ' ') for i in t]\n",
    "t"
   ]
  },
  {
   "cell_type": "code",
   "execution_count": 12,
   "metadata": {},
   "outputs": [],
   "source": [
    "def process_abstract(dset):\n",
    "    for i in dset:\n",
    "        abstract = i['abstract'].split('.')\n",
    "        abstract = [i.strip('\\n') for i in abstract]\n",
    "        abstract = [i.replace('\\n', ' ') for i in abstract]\n",
    "        yield abstract\n",
    "\n",
    "processed_abstracts = process_abstract(dataset)"
   ]
  },
  {
   "cell_type": "code",
   "execution_count": 13,
   "metadata": {},
   "outputs": [
    {
     "name": "stdout",
     "output_type": "stream",
     "text": [
      "['  A fully differential calculation in perturbative quantum chromodynamics is '\n",
      " 'presented for the production of massive photon pairs at hadron colliders',\n",
      " ' All next-to-leading order perturbative contributions from quark-antiquark, '\n",
      " 'gluon-(anti)quark, and gluon-gluon subprocesses are included, as well as '\n",
      " 'all-orders resummation of initial-state gluon radiation valid at '\n",
      " 'next-to-next-to-leading logarithmic accuracy',\n",
      " ' The region of phase space is specified in which the calculation is most '\n",
      " 'reliable',\n",
      " ' Good agreement is demonstrated with data from the Fermilab Tevatron, and '\n",
      " 'predictions are made for more detailed tests with CDF and DO data',\n",
      " ' Predictions are shown for distributions of diphoton pairs produced at the '\n",
      " 'energy of the Large Hadron Collider (LHC)',\n",
      " ' Distributions of the diphoton pairs from the decay of a Higgs boson are '\n",
      " 'contrasted with those produced from QCD processes at the LHC, showing that '\n",
      " 'enhanced sensitivity to the signal can be obtained with judicious selection '\n",
      " 'of events',\n",
      " '']\n"
     ]
    }
   ],
   "source": [
    "pprint(next(iter(processed_abstracts)))"
   ]
  },
  {
   "cell_type": "code",
   "execution_count": 14,
   "metadata": {},
   "outputs": [
    {
     "data": {
      "text/plain": [
       "array([-1.49317337e-02,  2.72806939e-02,  3.60777117e-02,  1.95817463e-02,\n",
       "        3.15512195e-02, -4.58300533e-03, -5.16738929e-03,  6.39291573e-03,\n",
       "        3.39215510e-02, -2.49712802e-02, -6.32433407e-03,  1.26604282e-03,\n",
       "       -1.94225423e-02, -1.96013395e-02, -9.65498481e-03, -4.62039281e-03,\n",
       "        2.14990508e-02, -7.99252018e-02,  2.58581601e-02,  6.83950335e-02,\n",
       "        1.41811287e-02,  9.81273782e-03, -9.34818294e-03,  2.98955720e-02,\n",
       "        6.07587062e-02, -2.72658411e-02,  9.87942051e-03,  3.92780639e-02,\n",
       "       -2.63100788e-02,  3.10591748e-03, -1.67004857e-02,  8.72719660e-03,\n",
       "        4.78854217e-02,  6.86550327e-03,  3.29383388e-02,  5.99094713e-03,\n",
       "       -2.10483242e-02, -6.47103554e-03,  1.47754075e-02,  4.51184660e-02,\n",
       "        2.03631520e-02, -4.08341410e-03, -2.74400935e-02, -3.17543633e-02,\n",
       "        3.84735540e-02,  5.99512719e-02, -4.81584482e-02, -3.46491821e-02,\n",
       "       -7.74970045e-03, -1.24374246e-02,  1.69636384e-02, -1.84025541e-02,\n",
       "        1.17025487e-01,  3.37676518e-03, -1.95190255e-02, -4.71417466e-03,\n",
       "       -2.45322436e-02, -2.39178678e-03, -4.35887501e-02,  1.18310964e-02,\n",
       "        2.74006464e-02, -1.58016123e-02, -1.12597831e-02, -2.96417400e-02,\n",
       "        2.02894844e-02,  1.93894445e-03,  4.58071567e-02,  3.75604182e-02,\n",
       "       -3.41282506e-03, -2.72442214e-02,  1.79249253e-02, -9.07210447e-03,\n",
       "       -1.51383942e-02, -2.62640249e-02,  1.63453713e-03,  1.16729848e-02,\n",
       "       -1.08878175e-02, -1.24233216e-02,  2.18813904e-02,  1.29394396e-03,\n",
       "       -1.73234027e-02, -8.40117224e-03, -1.56580918e-02, -5.03066811e-04,\n",
       "       -2.31150463e-02,  7.15953531e-03,  3.16547509e-03, -3.84028330e-02,\n",
       "        2.89151620e-04,  1.73403975e-02, -9.50371195e-03, -1.10770762e-02,\n",
       "        8.46329320e-04,  5.33399843e-02,  1.45945903e-02,  1.66180152e-02,\n",
       "        4.22583185e-02, -9.77089256e-03,  1.89919379e-02, -4.27457355e-02,\n",
       "        1.19285267e-02, -1.66437961e-02, -3.13248970e-02,  2.34256759e-02,\n",
       "        1.76918451e-02, -1.19586699e-01, -1.35764290e-04,  3.09241060e-02,\n",
       "       -6.27223914e-03, -5.89701440e-03,  5.94784785e-03, -3.26573476e-03,\n",
       "        3.70061398e-02,  2.33437177e-02,  3.52436379e-02,  3.04356962e-03,\n",
       "        5.99028822e-03, -9.59554780e-03, -5.46273179e-02, -2.16010101e-02,\n",
       "       -8.05094652e-03, -1.87769439e-02,  2.07037665e-02,  2.18991563e-02,\n",
       "        1.54158734e-02, -2.02269014e-02, -7.82494023e-02,  2.19015945e-02,\n",
       "       -9.54202376e-03, -2.41812002e-02, -4.12611887e-02,  2.47338396e-02,\n",
       "        8.26453883e-03,  4.19148467e-02,  2.28602532e-02, -1.88142783e-03,\n",
       "       -2.34385710e-02, -1.61456887e-03, -1.47498101e-02, -1.88790653e-02,\n",
       "        1.24139339e-02, -1.15933698e-02,  1.92791540e-02, -1.30841630e-02,\n",
       "       -1.63311567e-02, -3.22030066e-03, -3.29629867e-04,  1.95951574e-02,\n",
       "       -9.20603704e-03, -5.51623001e-04,  2.00515427e-03, -1.52324233e-02,\n",
       "       -4.86172400e-02, -2.76352116e-03,  1.41596859e-02,  1.84059087e-02,\n",
       "        1.97563041e-02, -6.53461507e-03, -3.99067588e-02, -3.86194047e-03,\n",
       "       -1.21943904e-02, -5.16825821e-03, -3.18083987e-02, -1.63038764e-02,\n",
       "        5.84308524e-03,  5.86841663e-04, -2.10947953e-02, -8.44099652e-03,\n",
       "       -9.69776139e-03, -1.81903709e-02,  1.79005116e-02,  2.60083675e-02,\n",
       "       -2.79258545e-02,  4.10330035e-02,  2.04842724e-02,  2.56515220e-02,\n",
       "        1.12126395e-02,  2.57781744e-02, -6.16769772e-03,  2.43885140e-03,\n",
       "       -6.17084727e-02, -3.64244394e-02,  3.42347845e-02, -1.02416929e-02,\n",
       "       -1.09438701e-02, -2.21827067e-02,  1.50506292e-02, -4.86239186e-03,\n",
       "        6.56593079e-03,  1.46860927e-02, -1.91047378e-02,  2.49913651e-02,\n",
       "       -6.24944165e-04, -2.43766396e-03, -8.86599813e-03,  1.33810693e-03,\n",
       "        7.07522966e-03,  7.09699765e-02,  1.74120050e-02,  1.01518676e-01,\n",
       "        4.59911637e-02,  3.20234112e-02, -7.06457533e-03, -3.40403430e-03,\n",
       "        1.93534922e-02,  3.15040001e-03,  1.61755774e-02,  2.60530245e-02,\n",
       "       -4.77535054e-02, -2.85625514e-02, -1.03518749e-02,  1.62653886e-02,\n",
       "        2.85111815e-02, -1.82820838e-02,  1.21918563e-02,  3.36794578e-03,\n",
       "       -1.28481479e-03,  5.75056076e-02,  5.70071898e-02,  2.05615703e-02,\n",
       "       -3.32914665e-02, -1.49203604e-02, -8.81970115e-03,  2.51658708e-02,\n",
       "       -4.33084089e-03,  2.41388637e-03,  2.00384930e-02, -2.17578537e-03,\n",
       "        1.30131254e-02,  1.53748058e-02, -1.73810780e-01,  1.01270685e-02,\n",
       "        6.95219636e-03,  8.73644371e-03,  2.26605888e-02,  6.75744796e-03,\n",
       "        6.50895573e-03, -5.11486968e-03,  2.46692356e-02, -3.52400765e-02,\n",
       "        5.13888374e-02, -3.40447724e-02, -7.66216591e-02, -1.75130721e-02,\n",
       "       -4.08213101e-02,  1.97045337e-02, -6.30809646e-03, -3.31271030e-02,\n",
       "        1.05064763e-02, -3.96381132e-03,  5.09862509e-03, -3.02565582e-02,\n",
       "       -1.27080632e-02,  4.52127215e-03, -5.16360514e-02,  1.88115798e-02,\n",
       "       -5.48816007e-03, -5.66634629e-03, -1.01451222e-02,  2.65518017e-02,\n",
       "        1.01271467e-02,  1.46588113e-03, -8.06219410e-03,  1.46251693e-02,\n",
       "       -1.59191750e-02, -4.42346931e-02, -9.32391733e-03, -1.70409493e-02,\n",
       "        6.61518946e-02,  1.21614188e-02, -9.89920460e-03, -2.74204835e-03,\n",
       "       -3.65752205e-02,  6.19335845e-02,  2.67271269e-02,  1.65828073e-03,\n",
       "       -3.96467224e-02, -5.83249517e-02, -2.97022611e-02,  1.20014371e-02,\n",
       "       -1.40776515e-01,  1.96775515e-02,  2.57157860e-03,  3.23581020e-03,\n",
       "        1.31747639e-02, -8.34925566e-03, -7.29191909e-03, -4.72175563e-03,\n",
       "        2.45528333e-02,  3.13315564e-03, -6.74702646e-03, -9.62693058e-03,\n",
       "       -1.92978699e-02, -5.61841391e-02,  1.93590987e-02,  2.81486232e-02,\n",
       "       -3.51133533e-02, -2.94240750e-02, -1.57273915e-02,  2.44454015e-03],\n",
       "      dtype=float32)"
      ]
     },
     "execution_count": 14,
     "metadata": {},
     "output_type": "execute_result"
    }
   ],
   "source": [
    "model.get_sentence_vector(next(iter(processed_abstracts))[0])"
   ]
  },
  {
   "cell_type": "code",
   "execution_count": 15,
   "metadata": {},
   "outputs": [
    {
     "name": "stderr",
     "output_type": "stream",
     "text": [
      "127832it [00:39, 3280.14it/s]"
     ]
    },
    {
     "name": "stdout",
     "output_type": "stream",
     "text": [
      "Saved embeddings_128000.npz\n"
     ]
    },
    {
     "name": "stderr",
     "output_type": "stream",
     "text": [
      "255728it [01:22, 3169.09it/s]"
     ]
    },
    {
     "name": "stdout",
     "output_type": "stream",
     "text": [
      "Saved embeddings_256000.npz\n"
     ]
    },
    {
     "name": "stderr",
     "output_type": "stream",
     "text": [
      "383738it [02:05, 3018.99it/s]"
     ]
    },
    {
     "name": "stdout",
     "output_type": "stream",
     "text": [
      "Saved embeddings_384000.npz\n"
     ]
    },
    {
     "name": "stderr",
     "output_type": "stream",
     "text": [
      "511977it [02:51, 2879.26it/s]"
     ]
    },
    {
     "name": "stdout",
     "output_type": "stream",
     "text": [
      "Saved embeddings_512000.npz\n"
     ]
    },
    {
     "name": "stderr",
     "output_type": "stream",
     "text": [
      "639893it [03:37, 2899.12it/s]"
     ]
    },
    {
     "name": "stdout",
     "output_type": "stream",
     "text": [
      "Saved embeddings_640000.npz\n"
     ]
    },
    {
     "name": "stderr",
     "output_type": "stream",
     "text": [
      "767895it [04:24, 2770.01it/s]"
     ]
    },
    {
     "name": "stdout",
     "output_type": "stream",
     "text": [
      "Saved embeddings_768000.npz\n"
     ]
    },
    {
     "name": "stderr",
     "output_type": "stream",
     "text": [
      "895965it [05:12, 2730.31it/s]"
     ]
    },
    {
     "name": "stdout",
     "output_type": "stream",
     "text": [
      "Saved embeddings_896000.npz\n"
     ]
    },
    {
     "name": "stderr",
     "output_type": "stream",
     "text": [
      "1023862it [06:02, 2752.55it/s]"
     ]
    },
    {
     "name": "stdout",
     "output_type": "stream",
     "text": [
      "Saved embeddings_1024000.npz\n"
     ]
    },
    {
     "name": "stderr",
     "output_type": "stream",
     "text": [
      "1151979it [06:52, 2721.02it/s]"
     ]
    },
    {
     "name": "stdout",
     "output_type": "stream",
     "text": [
      "Saved embeddings_1152000.npz\n"
     ]
    },
    {
     "name": "stderr",
     "output_type": "stream",
     "text": [
      "1279900it [07:44, 2618.56it/s]"
     ]
    },
    {
     "name": "stdout",
     "output_type": "stream",
     "text": [
      "Saved embeddings_1280000.npz\n"
     ]
    },
    {
     "name": "stderr",
     "output_type": "stream",
     "text": [
      "1407769it [08:36, 2570.25it/s]"
     ]
    },
    {
     "name": "stdout",
     "output_type": "stream",
     "text": [
      "Saved embeddings_1408000.npz\n"
     ]
    },
    {
     "name": "stderr",
     "output_type": "stream",
     "text": [
      "1535824it [09:29, 2451.81it/s]"
     ]
    },
    {
     "name": "stdout",
     "output_type": "stream",
     "text": [
      "Saved embeddings_1536000.npz\n"
     ]
    },
    {
     "name": "stderr",
     "output_type": "stream",
     "text": [
      "1663874it [10:21, 2435.98it/s]"
     ]
    },
    {
     "name": "stdout",
     "output_type": "stream",
     "text": [
      "Saved embeddings_1664000.npz\n"
     ]
    },
    {
     "name": "stderr",
     "output_type": "stream",
     "text": [
      "1791813it [11:15, 2463.71it/s]"
     ]
    },
    {
     "name": "stdout",
     "output_type": "stream",
     "text": [
      "Saved embeddings_1792000.npz\n"
     ]
    },
    {
     "name": "stderr",
     "output_type": "stream",
     "text": [
      "1919936it [12:09, 2598.88it/s]"
     ]
    },
    {
     "name": "stdout",
     "output_type": "stream",
     "text": [
      "Saved embeddings_1920000.npz\n"
     ]
    },
    {
     "name": "stderr",
     "output_type": "stream",
     "text": [
      "2047949it [12:55, 3264.34it/s]"
     ]
    },
    {
     "name": "stdout",
     "output_type": "stream",
     "text": [
      "Saved embeddings_2048000.npz\n"
     ]
    },
    {
     "name": "stderr",
     "output_type": "stream",
     "text": [
      "2175773it [13:30, 3981.10it/s]"
     ]
    },
    {
     "name": "stdout",
     "output_type": "stream",
     "text": [
      "Saved embeddings_2176000.npz\n"
     ]
    },
    {
     "name": "stderr",
     "output_type": "stream",
     "text": [
      "2303799it [14:02, 3505.47it/s]"
     ]
    },
    {
     "name": "stdout",
     "output_type": "stream",
     "text": [
      "Saved embeddings_2304000.npz\n"
     ]
    },
    {
     "name": "stderr",
     "output_type": "stream",
     "text": [
      "2326837it [14:09, 2737.79it/s]\n"
     ]
    },
    {
     "name": "stdout",
     "output_type": "stream",
     "text": [
      "CPU times: total: 2min 57s\n",
      "Wall time: 14min 10s\n"
     ]
    }
   ],
   "source": [
    "%%time\n",
    "embeddings = []\n",
    "local_chunk = []\n",
    "\n",
    "it = 0\n",
    "for i in tqdm(processed_abstracts): # abstract\n",
    "    for j in i: # sentence\n",
    "        local_chunk.append(model.get_sentence_vector(j))\n",
    "    embeddings.append(np.array(local_chunk).mean(axis=0))\n",
    "    local_chunk = []\n",
    "    it += 1\n",
    "        \n",
    "    if it % 128000 == 0:\n",
    "        embeddings = np.array(embeddings)\n",
    "        save_to_disk(embeddings, f\"fasttext_embeddings/embeddings_{it}.npz\")\n",
    "        print(f\"Saved embeddings_{it}.npz\")\n",
    "        embeddings = embeddings.tolist()\n",
    "        embeddings = []\n",
    "\n",
    "if len(embeddings) > 0:\n",
    "    embeddings = np.array(embeddings)\n",
    "    save_to_disk(embeddings, f\"fasttext_embeddings/embeddings_{it}.npz\")\n",
    "    embeddings = embeddings.tolist()\n",
    "    embeddings = []\n",
    "        \n",
    "    \n",
    "    "
   ]
  },
  {
   "cell_type": "code",
   "execution_count": 22,
   "metadata": {},
   "outputs": [],
   "source": [
    "def load_all_embeddings():\n",
    "    e_list = []\n",
    "    for i in range(1, 19):\n",
    "        embeddings = np.load(f'fasttext_embeddings/embeddings_{i}000.npz')['arr_0'].reshape(-1, 300)\n",
    "        e_list.append(embeddings)\n",
    "    \n",
    "    e = np.concatenate(e_list, axis=0)\n",
    "    return e\n",
    "\n",
    "embeddings_array = load_all_embeddings()"
   ]
  },
  {
   "cell_type": "code",
   "execution_count": 23,
   "metadata": {},
   "outputs": [
    {
     "data": {
      "text/plain": [
       "(2304000, 300)"
      ]
     },
     "execution_count": 23,
     "metadata": {},
     "output_type": "execute_result"
    }
   ],
   "source": [
    "embeddings_array.shape"
   ]
  },
  {
   "cell_type": "code",
   "execution_count": 24,
   "metadata": {},
   "outputs": [
    {
     "name": "stdout",
     "output_type": "stream",
     "text": [
      "2304000\n"
     ]
    }
   ],
   "source": [
    "index = faiss.IndexFlatL2(300)\n",
    "index.add(embeddings_array)\n",
    "print(index.ntotal)"
   ]
  },
  {
   "cell_type": "code",
   "execution_count": 25,
   "metadata": {},
   "outputs": [],
   "source": [
    "faiss.write_index(index, \"Indexes/fasttext_embeddings.index\")"
   ]
  },
  {
   "cell_type": "code",
   "execution_count": 26,
   "metadata": {},
   "outputs": [],
   "source": [
    "loaded_index = faiss.read_index(\"Indexes/fasttext_embeddings.index\")"
   ]
  },
  {
   "cell_type": "code",
   "execution_count": 28,
   "metadata": {},
   "outputs": [],
   "source": [
    "assert loaded_index.ntotal == 2304000"
   ]
  },
  {
   "cell_type": "code",
   "execution_count": null,
   "metadata": {},
   "outputs": [],
   "source": []
  }
 ],
 "metadata": {
  "kernelspec": {
   "display_name": "Python 3",
   "language": "python",
   "name": "python3"
  },
  "language_info": {
   "codemirror_mode": {
    "name": "ipython",
    "version": 3
   },
   "file_extension": ".py",
   "mimetype": "text/x-python",
   "name": "python",
   "nbconvert_exporter": "python",
   "pygments_lexer": "ipython3",
   "version": "3.11.6"
  }
 },
 "nbformat": 4,
 "nbformat_minor": 2
}
